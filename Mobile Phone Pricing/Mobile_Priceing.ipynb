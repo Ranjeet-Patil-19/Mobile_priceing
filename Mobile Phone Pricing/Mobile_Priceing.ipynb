{
 "cells": [
  {
   "cell_type": "code",
   "execution_count": 2,
   "metadata": {},
   "outputs": [],
   "source": [
    "import pandas as pd\n",
    "import numpy as np\n",
    "from sklearn.model_selection import train_test_split\n",
    "from sklearn.preprocessing import StandardScaler\n",
    "from sklearn.ensemble import RandomForestClassifier\n",
    "from sklearn.metrics import classification_report , confusion_matrix \n",
    "\n"
   ]
  },
  {
   "cell_type": "code",
   "execution_count": 3,
   "metadata": {},
   "outputs": [],
   "source": [
    "#load the Data\n",
    "df= pd.read_csv(\"dataset.csv\")"
   ]
  },
  {
   "cell_type": "code",
   "execution_count": 4,
   "metadata": {},
   "outputs": [
    {
     "name": "stdout",
     "output_type": "stream",
     "text": [
      "<class 'pandas.core.frame.DataFrame'>\n",
      "RangeIndex: 2000 entries, 0 to 1999\n",
      "Data columns (total 21 columns):\n",
      " #   Column         Non-Null Count  Dtype  \n",
      "---  ------         --------------  -----  \n",
      " 0   battery_power  2000 non-null   int64  \n",
      " 1   blue           2000 non-null   int64  \n",
      " 2   clock_speed    2000 non-null   float64\n",
      " 3   dual_sim       2000 non-null   int64  \n",
      " 4   fc             2000 non-null   int64  \n",
      " 5   four_g         2000 non-null   int64  \n",
      " 6   int_memory     2000 non-null   int64  \n",
      " 7   m_dep          2000 non-null   float64\n",
      " 8   mobile_wt      2000 non-null   int64  \n",
      " 9   n_cores        2000 non-null   int64  \n",
      " 10  pc             2000 non-null   int64  \n",
      " 11  px_height      2000 non-null   int64  \n",
      " 12  px_width       2000 non-null   int64  \n",
      " 13  ram            2000 non-null   int64  \n",
      " 14  sc_h           2000 non-null   int64  \n",
      " 15  sc_w           2000 non-null   int64  \n",
      " 16  talk_time      2000 non-null   int64  \n",
      " 17  three_g        2000 non-null   int64  \n",
      " 18  touch_screen   2000 non-null   int64  \n",
      " 19  wifi           2000 non-null   int64  \n",
      " 20  price_range    2000 non-null   int64  \n",
      "dtypes: float64(2), int64(19)\n",
      "memory usage: 328.2 KB\n",
      "None\n",
      "       battery_power       blue  clock_speed     dual_sim           fc  \\\n",
      "count    2000.000000  2000.0000  2000.000000  2000.000000  2000.000000   \n",
      "mean     1238.518500     0.4950     1.522250     0.509500     4.309500   \n",
      "std       439.418206     0.5001     0.816004     0.500035     4.341444   \n",
      "min       501.000000     0.0000     0.500000     0.000000     0.000000   \n",
      "25%       851.750000     0.0000     0.700000     0.000000     1.000000   \n",
      "50%      1226.000000     0.0000     1.500000     1.000000     3.000000   \n",
      "75%      1615.250000     1.0000     2.200000     1.000000     7.000000   \n",
      "max      1998.000000     1.0000     3.000000     1.000000    19.000000   \n",
      "\n",
      "            four_g   int_memory        m_dep    mobile_wt      n_cores  ...  \\\n",
      "count  2000.000000  2000.000000  2000.000000  2000.000000  2000.000000  ...   \n",
      "mean      0.521500    32.046500     0.501750   140.249000     4.520500  ...   \n",
      "std       0.499662    18.145715     0.288416    35.399655     2.287837  ...   \n",
      "min       0.000000     2.000000     0.100000    80.000000     1.000000  ...   \n",
      "25%       0.000000    16.000000     0.200000   109.000000     3.000000  ...   \n",
      "50%       1.000000    32.000000     0.500000   141.000000     4.000000  ...   \n",
      "75%       1.000000    48.000000     0.800000   170.000000     7.000000  ...   \n",
      "max       1.000000    64.000000     1.000000   200.000000     8.000000  ...   \n",
      "\n",
      "         px_height     px_width          ram         sc_h         sc_w  \\\n",
      "count  2000.000000  2000.000000  2000.000000  2000.000000  2000.000000   \n",
      "mean    645.108000  1251.515500  2124.213000    12.306500     5.767000   \n",
      "std     443.780811   432.199447  1084.732044     4.213245     4.356398   \n",
      "min       0.000000   500.000000   256.000000     5.000000     0.000000   \n",
      "25%     282.750000   874.750000  1207.500000     9.000000     2.000000   \n",
      "50%     564.000000  1247.000000  2146.500000    12.000000     5.000000   \n",
      "75%     947.250000  1633.000000  3064.500000    16.000000     9.000000   \n",
      "max    1960.000000  1998.000000  3998.000000    19.000000    18.000000   \n",
      "\n",
      "         talk_time      three_g  touch_screen         wifi  price_range  \n",
      "count  2000.000000  2000.000000   2000.000000  2000.000000  2000.000000  \n",
      "mean     11.011000     0.761500      0.503000     0.507000     1.500000  \n",
      "std       5.463955     0.426273      0.500116     0.500076     1.118314  \n",
      "min       2.000000     0.000000      0.000000     0.000000     0.000000  \n",
      "25%       6.000000     1.000000      0.000000     0.000000     0.750000  \n",
      "50%      11.000000     1.000000      1.000000     1.000000     1.500000  \n",
      "75%      16.000000     1.000000      1.000000     1.000000     2.250000  \n",
      "max      20.000000     1.000000      1.000000     1.000000     3.000000  \n",
      "\n",
      "[8 rows x 21 columns]\n"
     ]
    }
   ],
   "source": [
    "#Basic EDA\n",
    "print(df.info())\n",
    "print(df.describe())"
   ]
  },
  {
   "cell_type": "code",
   "execution_count": 5,
   "metadata": {},
   "outputs": [
    {
     "name": "stdout",
     "output_type": "stream",
     "text": [
      "battery_power    0\n",
      "blue             0\n",
      "clock_speed      0\n",
      "dual_sim         0\n",
      "fc               0\n",
      "four_g           0\n",
      "int_memory       0\n",
      "m_dep            0\n",
      "mobile_wt        0\n",
      "n_cores          0\n",
      "pc               0\n",
      "px_height        0\n",
      "px_width         0\n",
      "ram              0\n",
      "sc_h             0\n",
      "sc_w             0\n",
      "talk_time        0\n",
      "three_g          0\n",
      "touch_screen     0\n",
      "wifi             0\n",
      "price_range      0\n",
      "dtype: int64\n"
     ]
    }
   ],
   "source": [
    "#Handleing Missing Values\n",
    "print(df.isnull().sum())"
   ]
  },
  {
   "cell_type": "code",
   "execution_count": 6,
   "metadata": {},
   "outputs": [],
   "source": [
    "#Feature Extraction\n",
    "X= df.drop(columns=\"price_range\")\n",
    "y=df['price_range']"
   ]
  },
  {
   "cell_type": "code",
   "execution_count": 8,
   "metadata": {},
   "outputs": [],
   "source": [
    "#Train Test Split\n",
    "\n",
    "X_train ,X_test, y_train , y_test = train_test_split(X,y ,test_size= 0.3, random_state=42)"
   ]
  },
  {
   "cell_type": "code",
   "execution_count": 9,
   "metadata": {},
   "outputs": [],
   "source": [
    "#Feature Scaleing\n",
    "scaler = StandardScaler()\n",
    "X_train = scaler.fit_transform(X_train)\n",
    "X_test= scaler.transform(X_test)"
   ]
  },
  {
   "cell_type": "code",
   "execution_count": 11,
   "metadata": {},
   "outputs": [
    {
     "data": {
      "text/html": [
       "<style>#sk-container-id-1 {color: black;}#sk-container-id-1 pre{padding: 0;}#sk-container-id-1 div.sk-toggleable {background-color: white;}#sk-container-id-1 label.sk-toggleable__label {cursor: pointer;display: block;width: 100%;margin-bottom: 0;padding: 0.3em;box-sizing: border-box;text-align: center;}#sk-container-id-1 label.sk-toggleable__label-arrow:before {content: \"▸\";float: left;margin-right: 0.25em;color: #696969;}#sk-container-id-1 label.sk-toggleable__label-arrow:hover:before {color: black;}#sk-container-id-1 div.sk-estimator:hover label.sk-toggleable__label-arrow:before {color: black;}#sk-container-id-1 div.sk-toggleable__content {max-height: 0;max-width: 0;overflow: hidden;text-align: left;background-color: #f0f8ff;}#sk-container-id-1 div.sk-toggleable__content pre {margin: 0.2em;color: black;border-radius: 0.25em;background-color: #f0f8ff;}#sk-container-id-1 input.sk-toggleable__control:checked~div.sk-toggleable__content {max-height: 200px;max-width: 100%;overflow: auto;}#sk-container-id-1 input.sk-toggleable__control:checked~label.sk-toggleable__label-arrow:before {content: \"▾\";}#sk-container-id-1 div.sk-estimator input.sk-toggleable__control:checked~label.sk-toggleable__label {background-color: #d4ebff;}#sk-container-id-1 div.sk-label input.sk-toggleable__control:checked~label.sk-toggleable__label {background-color: #d4ebff;}#sk-container-id-1 input.sk-hidden--visually {border: 0;clip: rect(1px 1px 1px 1px);clip: rect(1px, 1px, 1px, 1px);height: 1px;margin: -1px;overflow: hidden;padding: 0;position: absolute;width: 1px;}#sk-container-id-1 div.sk-estimator {font-family: monospace;background-color: #f0f8ff;border: 1px dotted black;border-radius: 0.25em;box-sizing: border-box;margin-bottom: 0.5em;}#sk-container-id-1 div.sk-estimator:hover {background-color: #d4ebff;}#sk-container-id-1 div.sk-parallel-item::after {content: \"\";width: 100%;border-bottom: 1px solid gray;flex-grow: 1;}#sk-container-id-1 div.sk-label:hover label.sk-toggleable__label {background-color: #d4ebff;}#sk-container-id-1 div.sk-serial::before {content: \"\";position: absolute;border-left: 1px solid gray;box-sizing: border-box;top: 0;bottom: 0;left: 50%;z-index: 0;}#sk-container-id-1 div.sk-serial {display: flex;flex-direction: column;align-items: center;background-color: white;padding-right: 0.2em;padding-left: 0.2em;position: relative;}#sk-container-id-1 div.sk-item {position: relative;z-index: 1;}#sk-container-id-1 div.sk-parallel {display: flex;align-items: stretch;justify-content: center;background-color: white;position: relative;}#sk-container-id-1 div.sk-item::before, #sk-container-id-1 div.sk-parallel-item::before {content: \"\";position: absolute;border-left: 1px solid gray;box-sizing: border-box;top: 0;bottom: 0;left: 50%;z-index: -1;}#sk-container-id-1 div.sk-parallel-item {display: flex;flex-direction: column;z-index: 1;position: relative;background-color: white;}#sk-container-id-1 div.sk-parallel-item:first-child::after {align-self: flex-end;width: 50%;}#sk-container-id-1 div.sk-parallel-item:last-child::after {align-self: flex-start;width: 50%;}#sk-container-id-1 div.sk-parallel-item:only-child::after {width: 0;}#sk-container-id-1 div.sk-dashed-wrapped {border: 1px dashed gray;margin: 0 0.4em 0.5em 0.4em;box-sizing: border-box;padding-bottom: 0.4em;background-color: white;}#sk-container-id-1 div.sk-label label {font-family: monospace;font-weight: bold;display: inline-block;line-height: 1.2em;}#sk-container-id-1 div.sk-label-container {text-align: center;}#sk-container-id-1 div.sk-container {/* jupyter's `normalize.less` sets `[hidden] { display: none; }` but bootstrap.min.css set `[hidden] { display: none !important; }` so we also need the `!important` here to be able to override the default hidden behavior on the sphinx rendered scikit-learn.org. See: https://github.com/scikit-learn/scikit-learn/issues/21755 */display: inline-block !important;position: relative;}#sk-container-id-1 div.sk-text-repr-fallback {display: none;}</style><div id=\"sk-container-id-1\" class=\"sk-top-container\"><div class=\"sk-text-repr-fallback\"><pre>RandomForestClassifier(random_state=42)</pre><b>In a Jupyter environment, please rerun this cell to show the HTML representation or trust the notebook. <br />On GitHub, the HTML representation is unable to render, please try loading this page with nbviewer.org.</b></div><div class=\"sk-container\" hidden><div class=\"sk-item\"><div class=\"sk-estimator sk-toggleable\"><input class=\"sk-toggleable__control sk-hidden--visually\" id=\"sk-estimator-id-1\" type=\"checkbox\" checked><label for=\"sk-estimator-id-1\" class=\"sk-toggleable__label sk-toggleable__label-arrow\">RandomForestClassifier</label><div class=\"sk-toggleable__content\"><pre>RandomForestClassifier(random_state=42)</pre></div></div></div></div></div>"
      ],
      "text/plain": [
       "RandomForestClassifier(random_state=42)"
      ]
     },
     "execution_count": 11,
     "metadata": {},
     "output_type": "execute_result"
    }
   ],
   "source": [
    "# Step 7: Model Training\n",
    "clf= RandomForestClassifier(random_state=42)\n",
    "clf.fit(X_train, y_train)\n"
   ]
  },
  {
   "cell_type": "code",
   "execution_count": 12,
   "metadata": {},
   "outputs": [
    {
     "name": "stdout",
     "output_type": "stream",
     "text": [
      "confusion_matrix\n",
      "[[144   7   0   0]\n",
      " [ 10 120  16   0]\n",
      " [  0  21 115  12]\n",
      " [  0   0  13 142]]\n",
      "Classification Report:\n",
      "              precision    recall  f1-score   support\n",
      "\n",
      "           0       0.94      0.95      0.94       151\n",
      "           1       0.81      0.82      0.82       146\n",
      "           2       0.80      0.78      0.79       148\n",
      "           3       0.92      0.92      0.92       155\n",
      "\n",
      "    accuracy                           0.87       600\n",
      "   macro avg       0.87      0.87      0.87       600\n",
      "weighted avg       0.87      0.87      0.87       600\n",
      "\n"
     ]
    }
   ],
   "source": [
    "#Model Evaluation\n",
    "y_pred= clf.predict(X_test)\n",
    "print(\"confusion_matrix\")\n",
    "print(confusion_matrix(y_test, y_pred))\n",
    "print(\"Classification Report:\")\n",
    "print(classification_report(y_test, y_pred))\n"
   ]
  },
  {
   "cell_type": "code",
   "execution_count": null,
   "metadata": {},
   "outputs": [
    {
     "name": "stdout",
     "output_type": "stream",
     "text": [
      "Feature Importances:\n",
      "          Feature  Importance\n",
      "13            ram    0.458098\n",
      "0   battery_power    0.073734\n",
      "12       px_width    0.059472\n",
      "11      px_height    0.057745\n",
      "6      int_memory    0.040384\n",
      "8       mobile_wt    0.040155\n",
      "10             pc    0.031049\n",
      "16      talk_time    0.030855\n",
      "2     clock_speed    0.030386\n",
      "15           sc_w    0.029968\n",
      "14           sc_h    0.029481\n",
      "4              fc    0.027306\n",
      "7           m_dep    0.024602\n",
      "9         n_cores    0.023988\n",
      "3        dual_sim    0.007676\n",
      "19           wifi    0.007420\n",
      "1            blue    0.007279\n",
      "18   touch_screen    0.007040\n",
      "5          four_g    0.006971\n",
      "17        three_g    0.006391\n"
     ]
    }
   ],
   "source": [
    "# Step 9: Feature Importance\n",
    "feature_importances = pd.DataFrame({\n",
    "    'Feature': X.columns,\n",
    "    'Importance': clf.feature_importances_\n",
    "}).sort_values(by='Importance', ascending=False)\n",
    "print(\"Feature Importances:\")\n",
    "print(feature_importances)\n"
   ]
  },
  {
   "cell_type": "code",
   "execution_count": 14,
   "metadata": {},
   "outputs": [
    {
     "name": "stdout",
     "output_type": "stream",
     "text": [
      "Fitting 3 folds for each of 108 candidates, totalling 324 fits\n",
      "Best Parameters: {'max_depth': None, 'min_samples_leaf': 1, 'min_samples_split': 5, 'n_estimators': 200}\n"
     ]
    }
   ],
   "source": [
    "from sklearn.model_selection import GridSearchCV\n",
    "\n",
    "param_grid = {\n",
    "    'n_estimators': [100, 200, 300],\n",
    "    'max_depth': [None, 10, 20, 30],\n",
    "    'min_samples_split': [2, 5, 10],\n",
    "    'min_samples_leaf': [1, 2, 4]\n",
    "}\n",
    "grid_search = GridSearchCV(estimator=clf, param_grid=param_grid, cv=3, scoring='accuracy', verbose=2, n_jobs=-1)\n",
    "grid_search.fit(X_train, y_train)\n",
    "print(\"Best Parameters:\", grid_search.best_params_)\n"
   ]
  },
  {
   "cell_type": "code",
   "execution_count": 17,
   "metadata": {},
   "outputs": [
    {
     "name": "stdout",
     "output_type": "stream",
     "text": [
      "Logistic Regression Confusion Matrix:\n",
      "[[144   7   0   0]\n",
      " [  3 142   1   0]\n",
      " [  0   7 135   6]\n",
      " [  0   0   1 154]]\n",
      "Logistic Regression Classification Report:\n",
      "              precision    recall  f1-score   support\n",
      "\n",
      "           0       0.98      0.95      0.97       151\n",
      "           1       0.91      0.97      0.94       146\n",
      "           2       0.99      0.91      0.95       148\n",
      "           3       0.96      0.99      0.98       155\n",
      "\n",
      "    accuracy                           0.96       600\n",
      "   macro avg       0.96      0.96      0.96       600\n",
      "weighted avg       0.96      0.96      0.96       600\n",
      "\n"
     ]
    }
   ],
   "source": [
    "#Using Logestic Regression\n",
    "from sklearn.linear_model import LogisticRegression\n",
    "log_reg = LogisticRegression(random_state=42, max_iter=1000)\n",
    "log_reg.fit(X_train, y_train)\n",
    "y_pred_log_reg = log_reg.predict(X_test)\n",
    "print(\"Logistic Regression Confusion Matrix:\")\n",
    "print(confusion_matrix(y_test, y_pred_log_reg))\n",
    "print(\"Logistic Regression Classification Report:\")\n",
    "print(classification_report(y_test, y_pred_log_reg))"
   ]
  },
  {
   "cell_type": "code",
   "execution_count": 18,
   "metadata": {},
   "outputs": [
    {
     "name": "stdout",
     "output_type": "stream",
     "text": [
      "SVM Confusion Matrix:\n",
      "[[135  16   0   0]\n",
      " [ 14 123   9   0]\n",
      " [  0  19 122   7]\n",
      " [  0   0  13 142]]\n",
      "SVM Classification Report:\n",
      "              precision    recall  f1-score   support\n",
      "\n",
      "           0       0.91      0.89      0.90       151\n",
      "           1       0.78      0.84      0.81       146\n",
      "           2       0.85      0.82      0.84       148\n",
      "           3       0.95      0.92      0.93       155\n",
      "\n",
      "    accuracy                           0.87       600\n",
      "   macro avg       0.87      0.87      0.87       600\n",
      "weighted avg       0.87      0.87      0.87       600\n",
      "\n"
     ]
    }
   ],
   "source": [
    "from sklearn.svm import SVC\n",
    "\n",
    "svm_clf= SVC(random_state=42)\n",
    "svm_clf.fit(X_train, y_train)\n",
    "y_pred_svm= svm_clf.predict(X_test)\n",
    "print(\"SVM Confusion Matrix:\")\n",
    "print(confusion_matrix(y_test, y_pred_svm))\n",
    "print(\"SVM Classification Report:\")\n",
    "print(classification_report(y_test, y_pred_svm))\n"
   ]
  },
  {
   "cell_type": "code",
   "execution_count": 19,
   "metadata": {},
   "outputs": [
    {
     "name": "stdout",
     "output_type": "stream",
     "text": [
      "Neural Network Confusion Matrix:\n",
      "[[138  13   0   0]\n",
      " [  9 134   3   0]\n",
      " [  0  11 128   9]\n",
      " [  0   0  14 141]]\n",
      "Neural Network Classification Report:\n",
      "              precision    recall  f1-score   support\n",
      "\n",
      "           0       0.94      0.91      0.93       151\n",
      "           1       0.85      0.92      0.88       146\n",
      "           2       0.88      0.86      0.87       148\n",
      "           3       0.94      0.91      0.92       155\n",
      "\n",
      "    accuracy                           0.90       600\n",
      "   macro avg       0.90      0.90      0.90       600\n",
      "weighted avg       0.90      0.90      0.90       600\n",
      "\n"
     ]
    }
   ],
   "source": [
    "# Step 9: Neural Network\n",
    "from sklearn.neural_network import MLPClassifier\n",
    "nn_clf = MLPClassifier(random_state=42, max_iter=1000)\n",
    "nn_clf.fit(X_train, y_train)\n",
    "y_pred_nn = nn_clf.predict(X_test)\n",
    "print(\"Neural Network Confusion Matrix:\")\n",
    "print(confusion_matrix(y_test, y_pred_nn))\n",
    "print(\"Neural Network Classification Report:\")\n",
    "print(classification_report(y_test, y_pred_nn))\n"
   ]
  },
  {
   "cell_type": "code",
   "execution_count": 20,
   "metadata": {},
   "outputs": [
    {
     "name": "stdout",
     "output_type": "stream",
     "text": [
      "Gradient Descent Confusion Matrix:\n",
      "[[144   7   0   0]\n",
      " [  3 142   1   0]\n",
      " [  0   7 135   6]\n",
      " [  0   0   1 154]]\n",
      "Gradient Descent Classification Report:\n",
      "              precision    recall  f1-score   support\n",
      "\n",
      "           0       0.98      0.95      0.97       151\n",
      "           1       0.91      0.97      0.94       146\n",
      "           2       0.99      0.91      0.95       148\n",
      "           3       0.96      0.99      0.98       155\n",
      "\n",
      "    accuracy                           0.96       600\n",
      "   macro avg       0.96      0.96      0.96       600\n",
      "weighted avg       0.96      0.96      0.96       600\n",
      "\n"
     ]
    }
   ],
   "source": [
    "# Step 10: Gradient Descent (Using Logistic Regression as an Example)\n",
    "gd_clf = LogisticRegression(random_state=42, solver='saga', max_iter=1000)\n",
    "gd_clf.fit(X_train, y_train)\n",
    "y_pred_gd = gd_clf.predict(X_test)\n",
    "print(\"Gradient Descent Confusion Matrix:\")\n",
    "print(confusion_matrix(y_test, y_pred_gd))\n",
    "print(\"Gradient Descent Classification Report:\")\n",
    "print(classification_report(y_test, y_pred_gd))\n"
   ]
  },
  {
   "cell_type": "code",
   "execution_count": 21,
   "metadata": {},
   "outputs": [
    {
     "data": {
      "text/plain": [
       "['gradient_descent.h5']"
      ]
     },
     "execution_count": 21,
     "metadata": {},
     "output_type": "execute_result"
    }
   ],
   "source": [
    "# Using Logestic reg And gradient Descent Algo we Got more Accurancy than others\n",
    "\n",
    "\n",
    "\n",
    "import joblib  # For saving models\n",
    "import h5py  # For saving to HDF5\n",
    "\n",
    "joblib.dump(gd_clf, 'gradient_descent.h5')\n"
   ]
  },
  {
   "cell_type": "code",
   "execution_count": null,
   "metadata": {},
   "outputs": [],
   "source": []
  }
 ],
 "metadata": {
  "kernelspec": {
   "display_name": "Python 3",
   "language": "python",
   "name": "python3"
  },
  "language_info": {
   "codemirror_mode": {
    "name": "ipython",
    "version": 3
   },
   "file_extension": ".py",
   "mimetype": "text/x-python",
   "name": "python",
   "nbconvert_exporter": "python",
   "pygments_lexer": "ipython3",
   "version": "3.8.10"
  }
 },
 "nbformat": 4,
 "nbformat_minor": 2
}
